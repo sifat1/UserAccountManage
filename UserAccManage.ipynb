{
    "metadata": {
        "kernelspec": {
            "name": "SQL",
            "display_name": "SQL",
            "language": "sql"
        },
        "language_info": {
            "name": "sql",
            "version": ""
        }
    },
    "nbformat_minor": 2,
    "nbformat": 4,
    "cells": [
        {
            "cell_type": "code",
            "source": [
                "-- Create Database\n",
                "CREATE DATABASE AccountingSystem;\n",
                "GO\n",
                "\n",
                "USE AccountingSystem;\n",
                "GO\n",
                "\n",
                "\n",
                "CREATE TABLE ChartOfAccounts (\n",
                "    AccountId INT PRIMARY KEY IDENTITY,\n",
                "    AccountName NVARCHAR(100),\n",
                "    ParentId INT NULL,\n",
                "    AccountType NVARCHAR(50)\n",
                ");\n",
                "\n",
                "CREATE TABLE Vouchers (\n",
                "    VoucherId INT PRIMARY KEY IDENTITY,\n",
                "    VoucherType NVARCHAR(50),\n",
                "    ReferenceNo NVARCHAR(50),\n",
                "    VoucherDate DATE\n",
                ");\n",
                "\n",
                "CREATE TABLE VoucherEntries (\n",
                "    EntryId INT PRIMARY KEY IDENTITY,\n",
                "    VoucherId INT,\n",
                "    AccountId INT,\n",
                "    Debit DECIMAL(18,2),\n",
                "    Credit DECIMAL(18,2),\n",
                "    FOREIGN KEY (VoucherId) REFERENCES Vouchers(VoucherId),\n",
                "    FOREIGN KEY (AccountId) REFERENCES ChartOfAccounts(AccountId)\n",
                ");"
            ],
            "metadata": {
                "language": "sql",
                "azdata_cell_guid": "510aea49-f533-417d-9cf0-c3fda99a2514"
            },
            "outputs": [
                {
                    "output_type": "display_data",
                    "data": {
                        "text/html": "Commands completed successfully."
                    },
                    "metadata": {}
                },
                {
                    "output_type": "display_data",
                    "data": {
                        "text/html": "Commands completed successfully."
                    },
                    "metadata": {}
                },
                {
                    "output_type": "display_data",
                    "data": {
                        "text/html": "Commands completed successfully."
                    },
                    "metadata": {}
                },
                {
                    "output_type": "display_data",
                    "data": {
                        "text/html": "Total execution time: 00:00:01.103"
                    },
                    "metadata": {}
                }
            ],
            "execution_count": 1
        },
        {
            "cell_type": "code",
            "source": [
                "CREATE TYPE VoucherEntryType AS TABLE (\n",
                "    AccountId INT,\n",
                "    Debit DECIMAL(18,2),\n",
                "    Credit DECIMAL(18,2)\n",
                ");"
            ],
            "metadata": {
                "azdata_cell_guid": "ad681b15-a2ec-4f37-a7d0-1226e1cf4c66",
                "language": "sql"
            },
            "outputs": [
                {
                    "output_type": "display_data",
                    "data": {
                        "text/html": "Commands completed successfully."
                    },
                    "metadata": {}
                },
                {
                    "output_type": "display_data",
                    "data": {
                        "text/html": "Total execution time: 00:00:00.020"
                    },
                    "metadata": {}
                }
            ],
            "execution_count": 2
        },
        {
            "cell_type": "code",
            "source": [
                "CREATE PROCEDURE sp_ManageChartOfAccounts\n",
                "    @Action NVARCHAR(10),\n",
                "    @AccountId INT = NULL,\n",
                "    @AccountName NVARCHAR(100) = NULL,\n",
                "    @ParentId INT = NULL,\n",
                "    @AccountType NVARCHAR(50) = NULL\n",
                "AS\n",
                "BEGIN\n",
                "    IF @Action = 'INSERT'\n",
                "        INSERT INTO ChartOfAccounts (AccountName, ParentId, AccountType)\n",
                "        VALUES (@AccountName, @ParentId, @AccountType);\n",
                "\n",
                "    ELSE IF @Action = 'UPDATE'\n",
                "        UPDATE ChartOfAccounts\n",
                "        SET AccountName = @AccountName, ParentId = @ParentId, AccountType = @AccountType\n",
                "        WHERE AccountId = @AccountId;\n",
                "\n",
                "    ELSE IF @Action = 'DELETE'\n",
                "        DELETE FROM ChartOfAccounts WHERE AccountId = @AccountId;\n",
                "\n",
                "    ELSE IF @Action = 'SELECT'\n",
                "        SELECT * FROM ChartOfAccounts;\n",
                "END;\n",
                "\n",
                "GO\n",
                "\n",
                "CREATE PROCEDURE sp_SaveVoucher\n",
                "    @VoucherType NVARCHAR(50),\n",
                "    @ReferenceNo NVARCHAR(50),\n",
                "    @VoucherDate DATE,\n",
                "    @Entries VoucherEntryType READONLY\n",
                "AS\n",
                "BEGIN\n",
                "    DECLARE @VoucherId INT;\n",
                "    INSERT INTO Vouchers (VoucherType, ReferenceNo, VoucherDate)\n",
                "    VALUES (@VoucherType, @ReferenceNo, @VoucherDate);\n",
                "    SET @VoucherId = SCOPE_IDENTITY();\n",
                "\n",
                "    INSERT INTO VoucherEntries (VoucherId, AccountId, Debit, Credit)\n",
                "    SELECT @VoucherId, AccountId, Debit, Credit FROM @Entries;\n",
                "END;\n",
                "GO"
            ],
            "metadata": {
                "language": "sql",
                "azdata_cell_guid": "f1fcd2f7-6d87-4d70-9fcd-18da63ef38a1"
            },
            "outputs": [
                {
                    "output_type": "display_data",
                    "data": {
                        "text/html": "Commands completed successfully."
                    },
                    "metadata": {}
                },
                {
                    "output_type": "display_data",
                    "data": {
                        "text/html": "Commands completed successfully."
                    },
                    "metadata": {}
                },
                {
                    "output_type": "display_data",
                    "data": {
                        "text/html": "Total execution time: 00:00:00.027"
                    },
                    "metadata": {}
                }
            ],
            "execution_count": 3
        },
        {
            "cell_type": "code",
            "source": [
                "CREATE LOGIN appUserLogin WITH PASSWORD = 'sf123456!', CHECK_POLICY = ON;\n",
                "GO"
            ],
            "metadata": {
                "language": "sql",
                "azdata_cell_guid": "5274e1da-610c-4c6f-821a-ef59cc1b61b5"
            },
            "outputs": [
                {
                    "output_type": "error",
                    "evalue": "Msg 15025, Level 16, State 1, Line 1\nThe server principal 'appUserLogin' already exists.",
                    "ename": "",
                    "traceback": []
                },
                {
                    "output_type": "display_data",
                    "data": {
                        "text/html": "Total execution time: 00:00:00.044"
                    },
                    "metadata": {}
                }
            ],
            "execution_count": 4
        },
        {
            "cell_type": "code",
            "source": [
                "USE AccountingSystem;\n",
                "GO\n",
                "\n",
                "CREATE USER appUser FOR LOGIN appUserLogin;\n",
                "GO"
            ],
            "metadata": {
                "language": "sql",
                "azdata_cell_guid": "55fede7e-439f-4d0c-a31f-2aec47ac34c4"
            },
            "outputs": [
                {
                    "output_type": "display_data",
                    "data": {
                        "text/html": "Commands completed successfully."
                    },
                    "metadata": {}
                },
                {
                    "output_type": "display_data",
                    "data": {
                        "text/html": "Commands completed successfully."
                    },
                    "metadata": {}
                },
                {
                    "output_type": "display_data",
                    "data": {
                        "text/html": "Total execution time: 00:00:00.021"
                    },
                    "metadata": {}
                }
            ],
            "execution_count": 5
        },
        {
            "cell_type": "code",
            "source": [
                "USE AccountingSystem;\n",
                "GO\n",
                "\n",
                "-- Grant permissions to create tables\n",
                "GRANT CREATE TABLE TO appUser;\n",
                "GO\n",
                "\n",
                "-- Grant permissions to alter the dbo schema (essential for EF Core migrations)\n",
                "GRANT ALTER ON SCHEMA::dbo TO appUser;\n",
                "GO\n",
                "\n",
                "-- Grant REFERENCES permission on the dbo schema (essential for foreign key constraints)\n",
                "GRANT REFERENCES ON SCHEMA::dbo TO appUser;\n",
                "GO\n",
                "\n",
                "-- Grant DML operations (SELECT, INSERT, UPDATE, DELETE) on all objects within the dbo schema\n",
                "GRANT SELECT, INSERT, UPDATE, DELETE ON SCHEMA::dbo TO appUser;\n",
                "GO\n",
                "\n",
                "-- Alternatively, grant permissions on specific tables if they already exist:\n",
                "-- GRANT SELECT, INSERT, UPDATE, DELETE ON YourTableName TO appUser;\n",
                "-- GO\n",
                "\n",
                "-- Grant permission to execute stored procedures (if you use them)\n",
                "GRANT EXECUTE ON SCHEMA::dbo TO appUser;\n",
                "GO"
            ],
            "metadata": {
                "language": "sql",
                "azdata_cell_guid": "7810c101-3d95-42ca-a745-9930ea029c81"
            },
            "outputs": [
                {
                    "output_type": "display_data",
                    "data": {
                        "text/html": "Commands completed successfully."
                    },
                    "metadata": {}
                },
                {
                    "output_type": "display_data",
                    "data": {
                        "text/html": "Commands completed successfully."
                    },
                    "metadata": {}
                },
                {
                    "output_type": "display_data",
                    "data": {
                        "text/html": "Commands completed successfully."
                    },
                    "metadata": {}
                },
                {
                    "output_type": "display_data",
                    "data": {
                        "text/html": "Commands completed successfully."
                    },
                    "metadata": {}
                },
                {
                    "output_type": "display_data",
                    "data": {
                        "text/html": "Commands completed successfully."
                    },
                    "metadata": {}
                },
                {
                    "output_type": "display_data",
                    "data": {
                        "text/html": "Commands completed successfully."
                    },
                    "metadata": {}
                },
                {
                    "output_type": "display_data",
                    "data": {
                        "text/html": "Total execution time: 00:00:00.035"
                    },
                    "metadata": {}
                }
            ],
            "execution_count": 6
        },
        {
            "cell_type": "code",
            "source": [
                "-- Seed base accounts\n",
                "INSERT INTO ChartOfAccounts (AccountName, ParentId, AccountType) VALUES\n",
                "('Assets', NULL, 'Group'),\n",
                "('Cash', 1, 'Ledger'),\n",
                "('Bank', 1, 'Ledger'),\n",
                "('Liabilities', NULL, 'Group'),\n",
                "('Accounts Payable', 4, 'Ledger'),\n",
                "('Equity', NULL, 'Group'),\n",
                "('Owner Capital', 6, 'Ledger'),\n",
                "('Revenue', NULL, 'Group'),\n",
                "('Sales', 8, 'Ledger'),\n",
                "('Expenses', NULL, 'Group'),\n",
                "('Rent Expense', 10, 'Ledger'),\n",
                "('Supplies Expense', 10, 'Ledger');\n",
                ""
            ],
            "metadata": {
                "azdata_cell_guid": "70de084e-5527-44fb-81a2-3bb89090f759",
                "language": "sql"
            },
            "outputs": [
                {
                    "output_type": "display_data",
                    "data": {
                        "text/html": "(12 rows affected)"
                    },
                    "metadata": {}
                },
                {
                    "output_type": "display_data",
                    "data": {
                        "text/html": "Total execution time: 00:00:00.060"
                    },
                    "metadata": {}
                }
            ],
            "execution_count": 10
        },
        {
            "cell_type": "code",
            "source": [
                "EXEC sp_ManageChartOfAccounts @Action = 'SELECT'\n",
                ""
            ],
            "metadata": {
                "azdata_cell_guid": "60377552-28f3-4c89-bff3-e64bb7e756ae",
                "language": "sql"
            },
            "outputs": [
                {
                    "output_type": "display_data",
                    "data": {
                        "text/html": "(12 rows affected)"
                    },
                    "metadata": {}
                },
                {
                    "output_type": "display_data",
                    "data": {
                        "text/html": "Total execution time: 00:00:00.097"
                    },
                    "metadata": {}
                },
                {
                    "output_type": "execute_result",
                    "metadata": {},
                    "execution_count": 11,
                    "data": {
                        "application/vnd.dataresource+json": {
                            "schema": {
                                "fields": [
                                    {
                                        "name": "AccountId"
                                    },
                                    {
                                        "name": "AccountName"
                                    },
                                    {
                                        "name": "ParentId"
                                    },
                                    {
                                        "name": "AccountType"
                                    }
                                ]
                            },
                            "data": [
                                {
                                    "AccountId": "1",
                                    "AccountName": "Assets",
                                    "ParentId": "NULL",
                                    "AccountType": "Group"
                                },
                                {
                                    "AccountId": "2",
                                    "AccountName": "Cash",
                                    "ParentId": "1",
                                    "AccountType": "Ledger"
                                },
                                {
                                    "AccountId": "3",
                                    "AccountName": "Bank",
                                    "ParentId": "1",
                                    "AccountType": "Ledger"
                                },
                                {
                                    "AccountId": "4",
                                    "AccountName": "Liabilities",
                                    "ParentId": "NULL",
                                    "AccountType": "Group"
                                },
                                {
                                    "AccountId": "5",
                                    "AccountName": "Accounts Payable",
                                    "ParentId": "4",
                                    "AccountType": "Ledger"
                                },
                                {
                                    "AccountId": "6",
                                    "AccountName": "Equity",
                                    "ParentId": "NULL",
                                    "AccountType": "Group"
                                },
                                {
                                    "AccountId": "7",
                                    "AccountName": "Owner Capital",
                                    "ParentId": "6",
                                    "AccountType": "Ledger"
                                },
                                {
                                    "AccountId": "8",
                                    "AccountName": "Revenue",
                                    "ParentId": "NULL",
                                    "AccountType": "Group"
                                },
                                {
                                    "AccountId": "9",
                                    "AccountName": "Sales",
                                    "ParentId": "8",
                                    "AccountType": "Ledger"
                                },
                                {
                                    "AccountId": "10",
                                    "AccountName": "Expenses",
                                    "ParentId": "NULL",
                                    "AccountType": "Group"
                                },
                                {
                                    "AccountId": "11",
                                    "AccountName": "Rent Expense",
                                    "ParentId": "10",
                                    "AccountType": "Ledger"
                                },
                                {
                                    "AccountId": "12",
                                    "AccountName": "Supplies Expense",
                                    "ParentId": "10",
                                    "AccountType": "Ledger"
                                }
                            ]
                        },
                        "text/html": [
                            "<table>",
                            "<tr><th>AccountId</th><th>AccountName</th><th>ParentId</th><th>AccountType</th></tr>",
                            "<tr><td>1</td><td>Assets</td><td>NULL</td><td>Group</td></tr>",
                            "<tr><td>2</td><td>Cash</td><td>1</td><td>Ledger</td></tr>",
                            "<tr><td>3</td><td>Bank</td><td>1</td><td>Ledger</td></tr>",
                            "<tr><td>4</td><td>Liabilities</td><td>NULL</td><td>Group</td></tr>",
                            "<tr><td>5</td><td>Accounts Payable</td><td>4</td><td>Ledger</td></tr>",
                            "<tr><td>6</td><td>Equity</td><td>NULL</td><td>Group</td></tr>",
                            "<tr><td>7</td><td>Owner Capital</td><td>6</td><td>Ledger</td></tr>",
                            "<tr><td>8</td><td>Revenue</td><td>NULL</td><td>Group</td></tr>",
                            "<tr><td>9</td><td>Sales</td><td>8</td><td>Ledger</td></tr>",
                            "<tr><td>10</td><td>Expenses</td><td>NULL</td><td>Group</td></tr>",
                            "<tr><td>11</td><td>Rent Expense</td><td>10</td><td>Ledger</td></tr>",
                            "<tr><td>12</td><td>Supplies Expense</td><td>10</td><td>Ledger</td></tr>",
                            "</table>"
                        ]
                    }
                }
            ],
            "execution_count": 11
        },
        {
            "cell_type": "code",
            "source": [
                "ALTER PROCEDURE sp_ManageChartOfAccounts\n",
                "    @Action NVARCHAR(20),\n",
                "    @AccountId INT = NULL,\n",
                "    @AccountName NVARCHAR(100) = NULL,\n",
                "    @ParentId INT = NULL,\n",
                "    @AccountType NVARCHAR(50) = NULL\n",
                "AS\n",
                "BEGIN\n",
                "    SET NOCOUNT ON;\n",
                "\n",
                "    IF @Action = 'SELECT'\n",
                "    BEGIN\n",
                "        SELECT AccountId, AccountName, ParentId, AccountType FROM ChartOfAccounts ORDER BY ParentId, AccountName\n",
                "    END\n",
                "\n",
                "    ELSE IF @Action = 'INSERT'\n",
                "    BEGIN\n",
                "        INSERT INTO ChartOfAccounts (AccountName, ParentId, AccountType)\n",
                "        VALUES (@AccountName, @ParentId, @AccountType)\n",
                "    END\n",
                "\n",
                "    ELSE IF @Action = 'UPDATE'\n",
                "    BEGIN\n",
                "        UPDATE ChartOfAccounts\n",
                "        SET AccountName = @AccountName,\n",
                "            ParentId = @ParentId,\n",
                "            AccountType = @AccountType\n",
                "        WHERE AccountId = @AccountId\n",
                "    END\n",
                "\n",
                "    ELSE IF @Action = 'DELETE'\n",
                "    BEGIN\n",
                "        DELETE FROM ChartOfAccounts WHERE AccountId = @AccountId\n",
                "    END\n",
                "END"
            ],
            "metadata": {
                "language": "sql",
                "azdata_cell_guid": "eae0c3fc-89d3-4bca-9f37-216d8e418173"
            },
            "outputs": [
                {
                    "output_type": "display_data",
                    "data": {
                        "text/html": "Commands completed successfully."
                    },
                    "metadata": {}
                },
                {
                    "output_type": "display_data",
                    "data": {
                        "text/html": "Total execution time: 00:00:00.082"
                    },
                    "metadata": {}
                }
            ],
            "execution_count": 14
        },
        {
            "cell_type": "code",
            "source": [
                "ALTER PROCEDURE sp_GetVouchers\n",
                "AS\n",
                "BEGIN\n",
                "    SELECT VoucherId, VoucherType, ReferenceNo, VoucherDate FROM Vouchers ORDER BY VoucherDate DESC;\n",
                "END\n",
                "GO\n",
                "\n",
                "ALTER PROCEDURE sp_GetVoucherEntries\n",
                "    @VoucherId INT\n",
                "AS\n",
                "BEGIN\n",
                "    SELECT ve.VoucherId, ve.AccountId, ve.Debit, ve.Credit, coa.AccountName\n",
                "    FROM VoucherEntries ve\n",
                "    INNER JOIN ChartOfAccounts coa ON ve.AccountId = coa.AccountId\n",
                "    WHERE ve.VoucherId = @VoucherId\n",
                "    ORDER BY ve.AccountId;\n",
                "END\n",
                "GO\n",
                "\n",
                ""
            ],
            "metadata": {
                "language": "sql",
                "azdata_cell_guid": "86f7d057-e19b-4e6c-9c57-4b0dfa4f1e06"
            },
            "outputs": [
                {
                    "output_type": "display_data",
                    "data": {
                        "text/html": "Commands completed successfully."
                    },
                    "metadata": {}
                },
                {
                    "output_type": "display_data",
                    "data": {
                        "text/html": "Commands completed successfully."
                    },
                    "metadata": {}
                },
                {
                    "output_type": "display_data",
                    "data": {
                        "text/html": "Total execution time: 00:00:00.015"
                    },
                    "metadata": {}
                }
            ],
            "execution_count": 20
        },
        {
            "cell_type": "code",
            "source": [
                "EXEC sp_GetVouchers;\n",
                ""
            ],
            "metadata": {
                "language": "sql",
                "azdata_cell_guid": "27674a7d-e4d9-49f6-b8e9-8df6fd1b9e5d"
            },
            "outputs": [
                {
                    "output_type": "display_data",
                    "data": {
                        "text/html": "(2 rows affected)"
                    },
                    "metadata": {}
                },
                {
                    "output_type": "display_data",
                    "data": {
                        "text/html": "Total execution time: 00:00:00.107"
                    },
                    "metadata": {}
                },
                {
                    "output_type": "execute_result",
                    "metadata": {},
                    "execution_count": 21,
                    "data": {
                        "application/vnd.dataresource+json": {
                            "schema": {
                                "fields": [
                                    {
                                        "name": "VoucherId"
                                    },
                                    {
                                        "name": "VoucherType"
                                    },
                                    {
                                        "name": "ReferenceNo"
                                    },
                                    {
                                        "name": "VoucherDate"
                                    }
                                ]
                            },
                            "data": [
                                {
                                    "VoucherId": "1",
                                    "VoucherType": "Journal",
                                    "ReferenceNo": "REF123",
                                    "VoucherDate": "2025-06-27"
                                },
                                {
                                    "VoucherId": "2",
                                    "VoucherType": "Payment",
                                    "ReferenceNo": "REF124",
                                    "VoucherDate": "2025-06-27"
                                }
                            ]
                        },
                        "text/html": [
                            "<table>",
                            "<tr><th>VoucherId</th><th>VoucherType</th><th>ReferenceNo</th><th>VoucherDate</th></tr>",
                            "<tr><td>1</td><td>Journal</td><td>REF123</td><td>2025-06-27</td></tr>",
                            "<tr><td>2</td><td>Payment</td><td>REF124</td><td>2025-06-27</td></tr>",
                            "</table>"
                        ]
                    }
                }
            ],
            "execution_count": 21
        }
    ]
}